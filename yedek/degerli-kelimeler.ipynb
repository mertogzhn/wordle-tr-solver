{
 "cells": [
  {
   "cell_type": "code",
   "execution_count": 78,
   "metadata": {},
   "outputs": [],
   "source": [
    "#dosya açılır ve kelimeler listesitene atanır\n",
    "with open(\"besharf.txt\",\"r\",encoding=\"utf-8\") as f:\n",
    "    kelimeler = f.readlines()\n",
    "    f.close()\n"
   ]
  },
  {
   "cell_type": "code",
   "execution_count": 79,
   "metadata": {},
   "outputs": [],
   "source": [
    "harfTekrari={'a': 3527, 'b': 635, 'c': 381, 'ç': 514, 'd': 640, 'e': 2324, 'f': 402, 'g': 417, 'ğ': 156, 'h': 550, 'i': 1967, 'ı': 868, 'j': 51, 'k': 1801, 'l': 1422, 'm': 1331, 'n': 1229, 'o': 779, 'ö': 267, 'p': 488, 'r': 1540, 's': 1130, 'ş': 538, 't': 1253, 'u': 946, 'ü': 682, 'v': 404, 'y': 661, 'z': 659}\n",
    "\n",
    "kelimeSayisi=len(kelimeler)\n",
    "puanListesi=[]\n",
    "for i in range(kelimeSayisi):\n",
    "    kelime=[]\n",
    "    puan=0\n",
    "    for harf in kelimeler[i]:\n",
    "        if harf!=\"\\n\" and kelime.count(harf)==0 and harf!=\" \":\n",
    "            puan+=harfTekrari[f\"{harf}\"]\n",
    "            kelime.append(harf)\n",
    "    \n",
    "    puanListesi.append(puan)\n",
    "\n",
    "#print(puanListesi)\n"
   ]
  },
  {
   "cell_type": "code",
   "execution_count": 80,
   "metadata": {},
   "outputs": [
    {
     "name": "stdout",
     "output_type": "stream",
     "text": [
      "[]\n",
      "[['erika\\n', 1461], ['akemi\\n', 92], ['ikame\\n', 2258], ['kaime\\n', 2488], ['ameli\\n', 158], ['imale\\n', 2288], ['maile\\n', 3170], ['kamer\\n', 2513], ['krema\\n', 2923], ['marke\\n', 3216]]\n"
     ]
    }
   ],
   "source": [
    "#print(puanListesi)\n",
    "#print(max(puanListesi))\n",
    "#print(puanListesi.index(max(puanListesi)))\n",
    "#print(kelimeler[puanListesi.index(max(puanListesi))])\n",
    "enDeğerliler=[]\n",
    "\n",
    "for i in range(10):\n",
    "    degerli=[]\n",
    "    degerli.append(kelimeler[puanListesi.index(max(puanListesi))])\n",
    "    degerli.append(puanListesi.index(max(puanListesi)))\n",
    "\n",
    "    enDeğerliler.append(degerli)\n",
    "    kelimeler.pop(puanListesi.index(max(puanListesi)))\n",
    "    puanListesi.pop(puanListesi.index(max(puanListesi)))\n",
    "\n",
    "print(enDeğerliler)"
   ]
  },
  {
   "cell_type": "code",
   "execution_count": 77,
   "metadata": {},
   "outputs": [
    {
     "name": "stdout",
     "output_type": "stream",
     "text": [
      "0\n"
     ]
    }
   ],
   "source": [
    "print(enDeğerliler.count(['maile\\n']))"
   ]
  },
  {
   "cell_type": "code",
   "execution_count": null,
   "metadata": {},
   "outputs": [],
   "source": []
  }
 ],
 "metadata": {
  "interpreter": {
   "hash": "cef46d8763824d289992c8860a3089a1bef4a42fe2d41953bcdbf60b30f3f62d"
  },
  "kernelspec": {
   "display_name": "Python 3.8.10 64-bit (windows store)",
   "language": "python",
   "name": "python3"
  },
  "language_info": {
   "codemirror_mode": {
    "name": "ipython",
    "version": 3
   },
   "file_extension": ".py",
   "mimetype": "text/x-python",
   "name": "python",
   "nbconvert_exporter": "python",
   "pygments_lexer": "ipython3",
   "version": "3.8.10"
  },
  "orig_nbformat": 4
 },
 "nbformat": 4,
 "nbformat_minor": 2
}
