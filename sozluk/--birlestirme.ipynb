{
 "cells": [
  {
   "cell_type": "code",
   "execution_count": 18,
   "metadata": {},
   "outputs": [
    {
     "name": "stdout",
     "output_type": "stream",
     "text": [
      "aba\n",
      "\n"
     ]
    }
   ],
   "source": [
    "\n",
    "with open(\"sozluk/A.txt\",\"r\",encoding=\"utf-8\") as f:\n",
    "    icerikListe=f.readlines()\n",
    "    print(icerikListe[1])\n",
    "    f.close()\n",
    "    \n",
    "for i in icerikListe[:-1]:\n",
    "    if len(i)==6:\n",
    "        with open(\"besharf.txt\",\"a\",encoding=\"utf-8\") as file:\n",
    "            file.write(f\"{i}\")\n",
    "            file.close()\n",
    "    else:\n",
    "        pass\n"
   ]
  },
  {
   "cell_type": "code",
   "execution_count": 110,
   "metadata": {},
   "outputs": [],
   "source": [
    "#A dan z ye sözlük okunuyor. 5 harfli kelimeler tek dosyada toplanıyor\n",
    "alfb=['A', 'B', 'C', 'Ç', 'D', 'E', 'F', 'G', 'H', 'İ', 'I', 'J', 'K', 'L', 'M', 'N', 'O', 'Ö', 'P', 'R', 'S', 'Ş', 'T', 'U', 'Ü', 'V', 'Y', 'Z']\n",
    "\n",
    "#alfbNot={'A':0, 'B':0, 'C':0, 'Ç':0, 'D':0, 'E':0, 'F':0, 'G':0, 'H':0, 'İ':0, 'I':0, 'J':0, 'K':0, 'L':0, 'M':0, 'N':0, 'O':0, 'Ö':0, 'P':0, 'R':0, 'S':0, 'Ş':0, 'T':0, 'U':0, 'Ü':0, 'V':0, 'Y':0, 'Z':0}\n",
    "\n",
    "for i in alfb:\n",
    "    with open(f\"sozluk/{i}.txt\",\"r\",encoding=\"utf-8\") as f:\n",
    "        icerikListe=f.readlines()\n",
    "        #print(icerikListe[1])\n",
    "        f.close()\n",
    "    \n",
    "    for i in icerikListe[:-1]:\n",
    "        if len(i)==6:\n",
    "            with open(\"besharf.txt\",\"a\",encoding=\"utf-8\") as file:\n",
    "                file.write(f\"{i}\")\n",
    "                file.close()\n",
    "        else:\n",
    "            pass\n"
   ]
  },
  {
   "cell_type": "code",
   "execution_count": 48,
   "metadata": {},
   "outputs": [
    {
     "name": "stdout",
     "output_type": "stream",
     "text": [
      "{'a': 3527, 'b': 635, 'c': 381, 'ç': 514, 'd': 640, 'e': 2324, 'f': 402, 'g': 417, 'ğ': 156, 'h': 550, 'i': 1967, 'ı': 868, 'j': 51, 'k': 1801, 'l': 1422, 'm': 1331, 'n': 1229, 'o': 779, 'ö': 267, 'p': 488, 'r': 1540, 's': 1130, 'ş': 538, 't': 1253, 'u': 946, 'ü': 682, 'v': 404, 'y': 661, 'z': 659}\n"
     ]
    }
   ],
   "source": [
    "#Burada en çok tekrar eden harflere göre en değerli kelimeler bulunmaya çalışılacak\n",
    "with open(\"besharf.txt\",\"r\",encoding=\"utf-8\") as f:\n",
    "    kelimeler = f.readlines()\n",
    "    f.close()\n",
    "    \n",
    "#for i in range(len(kelimeler)):\n",
    "    #print(kelimeler[i])\n",
    "    #if kelimeler[i].count(\" \")!=0:\n",
    "    #    print(kelimeler[i])\n",
    "\n",
    "#kelime=[harf for harf in kelimeler[0]]\n",
    "#print(kelime)\n",
    "\n",
    "alfbNot={'a':0, 'b':0, 'c':0, 'ç':0, 'd':0, 'e':0, 'f':0, 'g':0,'ğ':0, 'h':0, 'i':0, 'ı':0, 'j':0, 'k':0, 'l':0, 'm':0, 'n':0, 'o':0, 'ö':0, 'p':0, 'r':0, 's':0, 'ş':0, 't':0, 'u':0, 'ü':0, 'v':0, 'y':0, 'z':0}\n",
    "harfler=\"abcçdefgğhiıjklmnoöprsştuüvyz\"\n",
    "\n",
    "for i in range(len(kelimeler)):\n",
    "    kelime=[]\n",
    "    for letter in kelimeler[i]:\n",
    "        if letter!=\"\\n\" and letter!=\" \":\n",
    "            kelime.append(letter)\n",
    "            alfbNot[f\"{letter}\"]+=1\n",
    "\n",
    "        \n",
    "    #print(kelime)\n",
    "\n",
    "\n",
    "print(alfbNot)\n",
    "\n",
    "harfTekrari={'a': 3527, 'b': 635, 'c': 381, 'ç': 514, 'd': 640, 'e': 2324, 'f': 402, 'g': 417, 'ğ': 156, 'h': 550, 'i': 1967, 'ı': 868, 'j': 51, 'k': 1801, 'l': 1422, 'm': 1331, 'n': 1229, 'o': 779, 'ö': 267, 'p': 488, 'r': 1540, 's': 1130, 'ş': 538, 't': 1253, 'u': 946, 'ü': 682, 'v': 404, 'y': 661, 'z': 659}"
   ]
  },
  {
   "cell_type": "code",
   "execution_count": 91,
   "metadata": {},
   "outputs": [],
   "source": [
    "#denemeler\n",
    "harfler=['a', 'b', 'c', 'ç', 'd', 'e', 'f', 'g', 'ğ', 'h', 'i', 'ı', 'j', 'k', 'l', 'm', 'n', 'o', 'ö', 'p', 'r', 's', 'ş', 't', 'u', 'ü', 'v', 'y', 'z']\n",
    "harfTekrari={'a': 3527, 'b': 635, 'c': 381, 'ç': 514, 'd': 640, 'e': 2324, 'f': 402, 'g': 417, 'ğ': 156, 'h': 550, 'i': 1967, 'ı': 868, 'j': 51, 'k': 1801, 'l': 1422, 'm': 1331, 'n': 1229, 'o': 779, 'ö': 267, 'p': 488, 'r': 1540, 's': 1130, 'ş': 538, 't': 1253, 'u': 946, 'ü': 682, 'v': 404, 'y': 661, 'z': 659}\n",
    "harfDegeri=[]\n",
    "for i in range(len(harfler)):\n",
    "    liste=[]\n",
    "    liste.append(harfTekrari[harfler[i]])\n",
    "    liste.append(harfler[i])\n",
    "    harfDegeri.append(liste)\n",
    "\n",
    "    #print(harfDegeri[i])\n"
   ]
  },
  {
   "cell_type": "code",
   "execution_count": null,
   "metadata": {},
   "outputs": [],
   "source": []
  }
 ],
 "metadata": {
  "interpreter": {
   "hash": "cef46d8763824d289992c8860a3089a1bef4a42fe2d41953bcdbf60b30f3f62d"
  },
  "kernelspec": {
   "display_name": "Python 3.8.10 64-bit (windows store)",
   "language": "python",
   "name": "python3"
  },
  "language_info": {
   "codemirror_mode": {
    "name": "ipython",
    "version": 3
   },
   "file_extension": ".py",
   "mimetype": "text/x-python",
   "name": "python",
   "nbconvert_exporter": "python",
   "pygments_lexer": "ipython3",
   "version": "3.8.10"
  },
  "orig_nbformat": 4
 },
 "nbformat": 4,
 "nbformat_minor": 2
}
