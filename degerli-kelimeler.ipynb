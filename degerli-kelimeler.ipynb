{
 "cells": [
  {
   "cell_type": "code",
   "execution_count": 3,
   "metadata": {},
   "outputs": [],
   "source": [
    "#dosya açılır ve kelimeler listesitene atanır\n",
    "with open(\"besharf.txt\",\"r\",encoding=\"utf-8\") as f:\n",
    "    kelimeler = f.readlines()\n",
    "    f.close()\n"
   ]
  },
  {
   "cell_type": "code",
   "execution_count": 16,
   "metadata": {},
   "outputs": [
    {
     "name": "stdout",
     "output_type": "stream",
     "text": [
      "['a', 'b', 'c', 'ı']\n",
      "5411\n",
      "['a', 'b', 'd', 'i']\n",
      "6769\n",
      "['a', 'b', 'l', 'ı']\n",
      "6452\n",
      "['a', 'b', 'n']\n",
      "5391\n",
      "['a', 'b', 'n', 'i']\n",
      "7358\n",
      "['a', 'b', 'ş', 'o']\n",
      "5479\n",
      "['a', 'b', 'z']\n",
      "4821\n",
      "['a', 'b', 's']\n",
      "5292\n",
      "['a', 'b', 'd', 'l']\n",
      "6224\n",
      "['a', 'b', 'e', 'c']\n",
      "6867\n"
     ]
    }
   ],
   "source": [
    "harfTekrari={'a': 3527, 'b': 635, 'c': 381, 'ç': 514, 'd': 640, 'e': 2324, 'f': 402, 'g': 417, 'ğ': 156, 'h': 550, 'i': 1967, 'ı': 868, 'j': 51, 'k': 1801, 'l': 1422, 'm': 1331, 'n': 1229, 'o': 779, 'ö': 267, 'p': 488, 'r': 1540, 's': 1130, 'ş': 538, 't': 1253, 'u': 946, 'ü': 682, 'v': 404, 'y': 661, 'z': 659}\n",
    "\n",
    "kelimeSayisi=len(kelimeler)\n",
    "\n",
    "for i in range(10):\n",
    "    kelime=[]\n",
    "    puan=0\n",
    "    for harf in kelimeler[i]:\n",
    "        if harf!=\"\\n\" and kelime.count(harf)==0:\n",
    "            puan+=harfTekrari[f\"{harf}\"]\n",
    "            kelime.append(harf)\n",
    "    kelime\n",
    "    print(kelime)\n",
    "    print(puan)\n",
    "\n"
   ]
  },
  {
   "cell_type": "code",
   "execution_count": 8,
   "metadata": {},
   "outputs": [
    {
     "name": "stdout",
     "output_type": "stream",
     "text": [
      "['a', 'b', 'a', 'c', 'ı', '\\n']\n",
      "a\n",
      "b\n",
      "a\n",
      "c\n",
      "ı\n"
     ]
    }
   ],
   "source": []
  },
  {
   "cell_type": "code",
   "execution_count": null,
   "metadata": {},
   "outputs": [],
   "source": []
  }
 ],
 "metadata": {
  "interpreter": {
   "hash": "cef46d8763824d289992c8860a3089a1bef4a42fe2d41953bcdbf60b30f3f62d"
  },
  "kernelspec": {
   "display_name": "Python 3.8.10 64-bit (windows store)",
   "language": "python",
   "name": "python3"
  },
  "language_info": {
   "codemirror_mode": {
    "name": "ipython",
    "version": 3
   },
   "file_extension": ".py",
   "mimetype": "text/x-python",
   "name": "python",
   "nbconvert_exporter": "python",
   "pygments_lexer": "ipython3",
   "version": "3.8.10"
  },
  "orig_nbformat": 4
 },
 "nbformat": 4,
 "nbformat_minor": 2
}
