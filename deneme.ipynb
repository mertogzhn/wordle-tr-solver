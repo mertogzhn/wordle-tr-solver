{
 "cells": [
  {
   "cell_type": "code",
   "execution_count": 3,
   "metadata": {},
   "outputs": [],
   "source": [
    "deli=\"deli\"\n",
    "\n",
    "if \"a\" in deli:\n",
    "    print(deli)"
   ]
  },
  {
   "cell_type": "code",
   "execution_count": 1,
   "metadata": {},
   "outputs": [],
   "source": [
    "import enDegerliKelimeler as edk\n"
   ]
  },
  {
   "cell_type": "code",
   "execution_count": 65,
   "metadata": {},
   "outputs": [],
   "source": [
    "def besHarfliler():            \n",
    "    with open(\"besharf.txt\",\"r\",encoding=\"utf-8\") as f:\n",
    "        kelimeler = f.readlines()\n",
    "        f.close()\n",
    "    return kelimeler"
   ]
  },
  {
   "cell_type": "code",
   "execution_count": 66,
   "metadata": {},
   "outputs": [],
   "source": [
    "with open(\"Yanlis-Harfler.txt\",\"r\",encoding=\"utf-8\") as f:\n",
    "        icerik=f.readlines()\n",
    "\n",
    "\n",
    "sozluk=besHarfliler()\n",
    "for i in range(len(icerik)):\n",
    "    silinecekler=[]\n",
    "    for j in sozluk:\n",
    "        if icerik[i][0] in j:\n",
    "            silinecekler.append(sozluk.index(j))\n",
    "    \n",
    "    \n",
    "    silinecekler.reverse()\n",
    "    #print(silinecekler)\n",
    "    for j in silinecekler:\n",
    "        sozluk.pop(j)\n",
    "\n"
   ]
  },
  {
   "cell_type": "code",
   "execution_count": 38,
   "metadata": {},
   "outputs": [
    {
     "name": "stdout",
     "output_type": "stream",
     "text": [
      "r\n"
     ]
    }
   ],
   "source": [
    "type(icerik[0])\n",
    "\n",
    "print(str(icerik[0][0]))\n",
    "\n",
    "if icerik[0][0] in sozluk[19]:\n",
    "    sozluk.pop()"
   ]
  },
  {
   "cell_type": "code",
   "execution_count": 69,
   "metadata": {},
   "outputs": [
    {
     "name": "stdout",
     "output_type": "stream",
     "text": [
      "1965\n"
     ]
    }
   ],
   "source": [
    "#print(len(sozluk))\n",
    "for i in range(1965):\n",
    "    if \"r\" in sozluk[i]:\n",
    "        print(\"vardır\")"
   ]
  },
  {
   "cell_type": "code",
   "execution_count": 70,
   "metadata": {},
   "outputs": [
    {
     "name": "stdout",
     "output_type": "stream",
     "text": [
      "['bebek\\n', 'becet\\n', 'bedel\\n', 'beden\\n', 'bedii\\n', 'bedik\\n', 'bedük\\n', 'begüm\\n', 'behey\\n', 'bekçi\\n', 'belce\\n', 'belde\\n', 'belek\\n', 'belen\\n', 'beleş\\n', 'belge\\n', 'belgi\\n', 'beliğ\\n', 'belik\\n', 'belit\\n', 'belki\\n', 'belli\\n', 'bemol\\n', 'bence\\n', 'benci\\n', 'bende\\n', 'benek\\n', 'bengi\\n', 'beniz\\n', 'benli\\n', 'besin\\n', 'besni\\n', 'beste\\n', 'beşik\\n', 'beşiz\\n', 'beşli\\n', 'beşme\\n', 'beşon\\n', 'beşuş\\n', 'betik\\n', 'betim\\n', 'beton\\n', 'beyin\\n', 'beyit\\n', 'beyzi\\n', 'bezci\\n', 'bezek\\n', 'bezen\\n', 'bezgi\\n', 'bezik\\n', 'beziş\\n', 'bezme\\n', 'bezsi\\n', 'bıcıl\\n', 'bıçık\\n', 'bıçkı\\n', 'bıdık\\n', 'bıkış\\n', 'bıyık\\n', 'biblo\\n', 'bicik\\n', 'biçem\\n', 'biçim\\n', 'biçiş\\n', 'biçki\\n', 'biçme\\n', 'bidon\\n', 'bihuş\\n', 'bikes\\n', 'bilek\\n', 'bilet\\n', 'bilge\\n', 'bilgi\\n', 'bilim\\n', 'biliş\\n', 'bilme\\n', 'bilye\\n', 'bindi\\n', 'binek\\n', 'bingi\\n', 'biniş\\n', 'binit\\n', 'binme\\n', 'bişek\\n', 'bitek\\n', 'bitey\\n', 'bitik\\n', 'bitim\\n', 'bitiş\\n', 'bitki\\n', 'bitli\\n', 'bitme\\n', 'bitüm\\n', 'biyel\\n', 'bizce\\n', 'bizon\\n', 'bloke\\n', 'bobin\\n', 'bocce\\n', 'bocuk\\n', 'boduç\\n', 'boğuk\\n', 'boğum\\n', 'bohem\\n', 'boklu\\n', 'bombe\\n', 'boylu\\n', 'boyoz\\n', 'boyun\\n', 'boyut\\n', 'bozuk\\n', 'bozum\\n', 'bozuş\\n', 'böcek\\n', 'bölen\\n', 'bölge\\n', 'bölme\\n', 'bölük\\n', 'bölüm\\n', 'bölüş\\n', 'bölüt\\n', 'bönce\\n', 'böyle\\n', 'buçuk\\n', 'budun\\n', 'bugün\\n', 'buğuz\\n', 'buket\\n', 'bukle\\n', 'bulgu\\n', 'buluş\\n', 'bulut\\n', 'bunlu\\n', 'buşon\\n', 'butik\\n', 'butlu\\n', 'buton\\n', 'buyot\\n', 'buzcu\\n', 'buzlu\\n', 'buzul\\n', 'büğet\\n', 'büğlü\\n', 'büken\\n', 'bükme\\n', 'büküç\\n', 'bükük\\n', 'büküm\\n', 'bükün\\n', 'büküş\\n', 'büluğ\\n', 'bünye\\n', 'bütçe\\n', 'büten\\n', 'bütey\\n', 'bütün\\n', 'büvet\\n', 'büyük\\n', 'büzgü\\n', 'büzme\\n', 'büzük\\n', 'cebel\\n', 'cebin\\n', 'cedel\\n', 'cedit\\n', 'cehil\\n', 'ceket\\n', 'celbe\\n', 'celep\\n', 'celil\\n', 'celse\\n', 'cemil\\n', 'cenin\\n', 'cenup\\n', 'cepçi\\n', 'cephe\\n', 'ceset\\n', 'cesim\\n', 'ceviz\\n', 'cevvi\\n', 'cezbe\\n', 'cezve\\n', 'cıbıl\\n', 'cıcık\\n', 'cılız\\n', 'cıvık\\n', 'cızık\\n', 'cibin\\n', 'cicik\\n', 'cicim\\n', 'cicoz\\n', 'ciddi\\n', 'cide \\n', 'cihet\\n', 'cilve\\n', 'cinci\\n', 'cinli\\n', 'cinsi\\n', 'cisim\\n', 'cizye\\n', 'coşku\\n', 'coşum\\n', 'coşuş\\n', 'cuşiş\\n', 'cübbe\\n', 'cücük\\n', 'cülus\\n', 'cümle\\n', 'cünun\\n', 'cünüp\\n', 'cüsse\\n', 'çebiç\\n', 'çecik\\n', 'çeçen\\n', 'çedik\\n', 'çekçe\\n', 'çekek\\n', 'çekel\\n', 'çekem\\n', 'çekiç\\n', 'çekik\\n', 'çekim\\n', 'çekiş\\n', 'çekme\\n', 'çekül\\n', 'çelek\\n', 'çelen\\n', 'çelgi\\n', 'çelik\\n', 'çelim\\n', 'çello\\n', 'çelme\\n', 'çemçe\\n', 'çemen\\n', 'çemiç\\n', 'çemiş\\n', 'çenek\\n', 'çenet\\n', 'çengi\\n', 'çepel\\n', 'çepez\\n', 'çepin\\n', 'çepni\\n', 'çeşit\\n', 'çeşme\\n', 'çeşni\\n', 'çetin\\n', 'çevik\\n', 'çeyiz\\n', 'çıfıt\\n', 'çıkık\\n', 'çıkın\\n', 'çıkış\\n', 'çıkıt\\n', 'çıktı\\n', 'çıngı\\n', 'çiçek\\n', 'çifte\\n', 'çiğde\\n', 'çiğil\\n', 'çiğin\\n', 'çiğit\\n', 'çilek\\n', 'çilli\\n', 'çimek\\n', 'çimen\\n', 'çimme\\n', 'çince\\n', 'çine \\n', 'çinko\\n', 'çinli\\n', 'çipil\\n', 'çisen\\n', 'çişik\\n', 'çiten\\n', 'çitme\\n', 'çivit\\n', 'çizge\\n', 'çizgi\\n', 'çizik\\n', 'çizim\\n', 'çiziş\\n', 'çizme\\n', 'çocuk\\n', 'çoğul\\n', 'çoğun\\n', 'çokçu\\n', 'çoklu\\n', 'çotuk\\n', 'çöğme\\n', 'çökek\\n', 'çökel\\n', 'çökme\\n', 'çökük\\n', 'çöküm\\n', 'çöküş\\n', 'çömçe\\n', 'çömez\\n', 'çömme\\n', 'çöpçü\\n', 'çöplü\\n', 'çöven\\n', 'çözgü\\n', 'çözme\\n', 'çözük\\n', 'çözüm\\n', 'çözüş\\n', 'çubuk\\n', 'çulcu\\n', 'çünkü\\n', 'debbe\\n', 'debil\\n', 'defin\\n', 'defne\\n', 'değeç\\n', 'değil\\n', 'değim\\n', 'değin\\n', 'değiş\\n', 'değme\\n', 'deist\\n', 'deizm\\n', 'delgi\\n', 'delik\\n', 'delil\\n', 'delme\\n', 'demci\\n', 'demeç\\n', 'demek\\n', 'demet\\n', 'demin\\n', 'demli\\n', 'denek\\n', 'denet\\n', 'deney\\n', 'denge\\n', 'denim\\n', 'deniz\\n', 'denli\\n', 'denme\\n', 'denyo\\n', 'desen\\n', 'deste\\n', 'deşik\\n', 'deşme\\n', 'devce\\n', 'devim\\n', 'deyim\\n', 'deyiş\\n', 'dışık\\n', 'dışkı\\n', 'dibek\\n', 'didon\\n', 'dikçe\\n', 'dikeç\\n', 'dikel\\n', 'diken\\n', 'dikey\\n', 'dikim\\n', 'dikiş\\n', 'dikit\\n', 'dikiz\\n', 'dikme\\n', 'dikse\\n', 'dikte\\n', 'dilce\\n', 'dilci\\n', 'dilek\\n', 'dilim\\n', 'diliş\\n', 'dilli\\n', 'dilme\\n', 'dilsi\\n', 'dince\\n', 'dinci\\n', 'dinek\\n', 'dinen\\n', 'dingi\\n', 'dingo\\n', 'diniş\\n', 'dinli\\n', 'dinme\\n', 'dipli\\n', 'disko\\n', 'dişçi\\n', 'dişil\\n', 'dişli\\n', 'ditme\\n', 'divik\\n', 'divit\\n', 'diyet\\n', 'diyez\\n', 'diyot\\n', 'dizek\\n', 'dizel\\n', 'dizem\\n', 'dizey\\n', 'dizge\\n', 'dizgi\\n', 'dizim\\n', 'dizin\\n', 'diziş\\n', 'dizme\\n', 'doğum\\n', 'doğuş\\n', 'dokuz\\n', 'dolgu\\n', 'dolum\\n', 'doluş\\n', 'domuz\\n', 'donlu\\n', 'donuk\\n', 'doygu\\n', 'doyum\\n', 'doyuş\\n', 'dökme\\n', 'dökük\\n', 'döküm\\n', 'döküş\\n', 'dölek\\n', 'dölüt\\n', 'döneç\\n', 'dönek\\n', 'dönel\\n', 'dönem\\n', 'döngü\\n', 'dönme\\n', 'dönük\\n', 'dönüm\\n', 'dönüş\\n', 'dönüt\\n', 'döşek\\n', 'döşem\\n', 'döşlü\\n', 'döveç\\n', 'döviz\\n', 'dövme\\n', 'dövüş\\n', 'duble\\n', 'duhul\\n', 'duluk\\n', 'duşlu\\n', 'dutçu\\n', 'duygu\\n', 'duyum\\n', 'duyuş\\n', 'dübel\\n', 'dübeş\\n', 'düden\\n', 'düdük\\n', 'düğme\\n', 'düğüm\\n', 'düğün\\n', 'dümen\\n', 'dünit\\n', 'dünkü\\n', 'düşçü\\n', 'düşes\\n', 'düşeş\\n', 'düşey\\n', 'düşkü\\n', 'düşme\\n', 'düşük\\n', 'düşün\\n', 'düşüş\\n', 'düşüt\\n', 'düvel\\n', 'düven\\n', 'düyek\\n', 'düyun\\n', 'düzce\\n', 'düzeç\\n', 'düzem\\n', 'düzen\\n', 'düzey\\n', 'düzgü\\n', 'düzme\\n', 'ebcet\\n', 'ebedi\\n', 'ebeli\\n', 'ebleh\\n', 'eçhel\\n', 'edebi\\n', 'edinç\\n', 'efece\\n', 'efekt\\n', 'efsun\\n', 'efsus\\n', 'eglog\\n', 'egzoz\\n', 'eğil \\n', 'eğlek\\n', 'eğmeç\\n', 'eğmek\\n', 'ehven\\n', 'ekici\\n', 'ekili\\n', 'eklem\\n', 'ekmek\\n', 'ekose\\n', 'eksen\\n', 'eksik\\n', 'eksin\\n', 'eksiz\\n', 'elbet\\n', 'elcik\\n', 'elçek\\n', 'elçim\\n', 'elden\\n', 'eleji\\n', 'eleme\\n', 'elgin\\n', 'elifi\\n', 'elips\\n', 'ellik\\n', 'elmek\\n', 'elzem\\n', 'emcek\\n', 'emcik\\n', 'emet \\n', 'emici\\n', 'emlik\\n', 'emmeç\\n', 'emmek\\n', 'emzik\\n', 'eneme\\n', 'eneze\\n', 'enfes\\n', 'engel\\n', 'engin\\n', 'enlem\\n', 'enöte\\n', 'ensiz\\n', 'entel\\n', 'enzim\\n', 'eosen\\n', 'epeyi\\n', 'epope\\n', 'epsem\\n', 'eseme\\n', 'eskiz\\n', 'eslek\\n', 'esmek\\n', 'esnek\\n', 'estet\\n', 'eşkin\\n', 'eşlek\\n', 'eşlem\\n', 'eşlik\\n', 'eşmek\\n', 'eşsiz\\n', 'etçik\\n', 'etçil\\n', 'etene\\n', 'etken\\n', 'etkin\\n', 'etlik\\n', 'etmek\\n', 'etmen\\n', 'etnik\\n', 'etsel\\n', 'etsiz\\n', 'evcek\\n', 'evcik\\n', 'evcil\\n', 'evdeş\\n', 'evgin\\n', 'eviye\\n', 'evlek\\n', 'evlik\\n', 'evsin\\n', 'evsiz\\n', 'evvel\\n', 'eylem\\n', 'eylül\\n', 'ezeli\\n', 'ezgiç\\n', 'ezgin\\n', 'ezici\\n', 'ezinç\\n', 'ezmek\\n', 'fehim\\n', 'feke \\n', 'fekül\\n', 'felek\\n', 'fenci\\n', 'fenik\\n', 'fenni\\n', 'fenol\\n', 'fesih\\n', 'fetih\\n', 'fetiş\\n', 'fetüs\\n', 'feyiz\\n', 'fıkıh\\n', 'fışkı\\n', 'fıtık\\n', 'fidye\\n', 'fiili\\n', 'filet\\n', 'filiz\\n', 'filoz\\n', 'filsi\\n', 'filum\\n', 'fince\\n', 'finiş\\n', 'fiske\\n', 'fisto\\n', 'fişek\\n', 'fişli\\n', 'fitçi\\n', 'fitil\\n', 'fitin\\n', 'fitne\\n', 'fizik\\n', 'fleol\\n', 'fodul\\n', 'fokus\\n', 'folyo\\n', 'fondü\\n', 'fonem\\n', 'fosil\\n', 'fuhuş\\n', 'fülüs\\n', 'fünye\\n', 'füsun\\n', 'füzen\\n', 'gebeş\\n', 'geççe\\n', 'geçek\\n', 'geçen\\n', 'geçim\\n', 'geçiş\\n', 'geçit\\n', 'geçme\\n', 'gedik\\n', 'gedme\\n', 'gelen\\n', 'gelin\\n', 'geliş\\n', 'gelme\\n', 'genel\\n', 'geniş\\n', 'geniz\\n', 'genom\\n', 'geoit\\n', 'getto\\n', 'geven\\n', 'geviş\\n', 'gevme\\n', 'geyik\\n', 'geziş\\n', 'gezme\\n', 'gıcık\\n', 'gıdık\\n', 'gıdım\\n', 'gidiş\\n', 'gidon\\n', 'gitme\\n', 'giyim\\n', 'giyiş\\n', 'giyit\\n', 'giyme\\n', 'giysi\\n', 'gizem\\n', 'gizil\\n', 'gizli\\n', 'gocuk\\n', 'godoş\\n', 'golcü\\n', 'gollü\\n', 'gotik\\n', 'göbek\\n', 'göbel\\n', 'göbüt\\n', 'göcen\\n', 'göçme\\n', 'göçük\\n', 'göçüm\\n', 'göçüş\\n', 'göden\\n', 'gödeş\\n', 'göğem\\n', 'göğüs\\n', 'gökçe\\n', 'göle \\n', 'gölek\\n', 'gölet\\n', 'gölge\\n', 'gölük\\n', 'gömeç\\n', 'gömme\\n', 'gömük\\n', 'gömüş\\n', 'gömüt\\n', 'göncü\\n', 'gönen\\n', 'gönül\\n', 'gönye\\n', 'gövde\\n', 'gövek\\n', 'gövel\\n', 'gövem\\n', 'göyme\\n', 'göyük\\n', 'gözcü\\n', 'gözde\\n', 'gözgü\\n', 'gözlü\\n', 'gudde\\n', 'guguk\\n', 'gulet\\n', 'gusto\\n', 'gusül\\n', 'güce \\n', 'gücük\\n', 'gücün\\n', 'güçlü\\n', 'güdek\\n', 'güdük\\n', 'güdüm\\n', 'güfte\\n', 'güğüm\\n', 'gülcü\\n', 'güleç\\n', 'gülle\\n', 'güllü\\n', 'gülme\\n', 'gülük\\n', 'gülüş\\n', 'gülüt\\n', 'gümeç\\n', 'gümül\\n', 'gümüş\\n', 'günce\\n', 'günde\\n', 'güneç\\n', 'güneş\\n', 'güney\\n', 'günlü\\n', 'gütme\\n', 'güveç\\n', 'güven\\n', 'güvez\\n', 'güzel\\n', 'güzey\\n', 'hecin\\n', 'hedef\\n', 'hedik\\n', 'hekim\\n', 'helen\\n', 'helik\\n', 'helis\\n', 'helke\\n', 'helme\\n', 'hemen\\n', 'hemze\\n', 'henüz\\n', 'hepsi\\n', 'heves\\n', 'heybe\\n', 'heyet\\n', 'hezel\\n', 'hezen\\n', 'hıfız\\n', 'hımış\\n', 'hısım\\n', 'hışım\\n', 'hızlı\\n', 'hiciv\\n', 'hiççi\\n', 'hidiv\\n', 'hikem\\n', 'hilye\\n', 'himen\\n', 'hindi\\n', 'hindu\\n', 'hippi\\n', 'hisli\\n', 'hisse\\n', 'hissi\\n', 'hitit\\n', 'hizip\\n', 'hokey\\n', 'hotoz\\n', 'hödük\\n', 'höyük\\n', 'hudut\\n', 'hukuk\\n', 'hulul\\n', 'hulus\\n', 'husuf\\n', 'husul\\n', 'husus\\n', 'husye\\n', 'hutbe\\n', 'hutut\\n', 'huylu\\n', 'hücum\\n', 'hükmi\\n', 'hüküm\\n', 'hülle\\n', 'hüsün\\n', 'hüyük\\n', 'hüzme\\n', 'hüzün\\n', 'iblis\\n', 'iç ek\\n', 'içici\\n', 'içkin\\n', 'içlem\\n', 'içlik\\n', 'içmek\\n', 'içsel\\n', 'içsiz\\n', 'iç su\\n', 'içten\\n', 'içyüz\\n', 'iffet\\n', 'iğdiş\\n', 'iğlik\\n', 'ikici\\n', 'ikili\\n', 'iklim\\n', 'ilenç\\n', 'ileti\\n', 'ilgeç\\n', 'iliç \\n', 'ilkel\\n', 'ilkin\\n', 'illet\\n', 'ilmek\\n', 'ilmik\\n', 'imbik\\n', 'imece\\n', 'imleç\\n', 'imlek\\n', 'imlik\\n', 'incik\\n', 'incil\\n', 'indis\\n', 'ingin\\n', 'inmek\\n', 'inönü\\n', 'ipçik\\n', 'iplik\\n', 'ipsiz\\n', 'ipucu\\n', 'isevi\\n', 'iskoç\\n', 'islim\\n', 'ismen\\n', 'ismet\\n', 'ispit\\n', 'istek\\n', 'istem\\n', 'istif\\n', 'istim\\n', 'istop\\n', 'işeme\\n', 'işkil\\n', 'işlek\\n', 'işlem\\n', 'işlev\\n', 'işlik\\n', 'işsiz\\n', 'işteş\\n', 'iteği\\n', 'itici\\n', 'itlik\\n', 'itmek\\n', 'ivedi\\n', 'ivesi\\n', 'ivmek\\n', 'iyice\\n', 'izlek\\n', 'izlem\\n', 'izlev\\n', 'izmit\\n', 'iznik\\n', 'izole\\n', 'izzet\\n', 'ılgım\\n', 'ılgın\\n', 'ilgın\\n', 'ıslık\\n', 'ıssız\\n', 'ışkın\\n', 'ızgın\\n', 'jeloz\\n', 'jeton\\n', 'jikle\\n', 'jilet\\n', 'jokey\\n', 'jüpon\\n', 'kebze\\n', 'kefen\\n', 'kefil\\n', 'kefne\\n', 'kehle\\n', 'kekeç\\n', 'kekik\\n', 'kelek\\n', 'kelem\\n', 'kelep\\n', 'keleş\\n', 'kelik\\n', 'kelle\\n', 'kelli\\n', 'kemik\\n', 'kendi\\n', 'kenef\\n', 'kenet\\n', 'kepçe\\n', 'kepek\\n', 'kepez\\n', 'kepme\\n', 'kesbi\\n', 'kesek\\n', 'kesel\\n', 'kesen\\n', 'kesif\\n', 'kesik\\n', 'kesim\\n', 'kesin\\n', 'kesiş\\n', 'kesit\\n', 'keski\\n', 'kesme\\n', 'keşen\\n', 'keşif\\n', 'keşik\\n', 'keşiş\\n', 'keşke\\n', 'keşki\\n', 'keten\\n', 'keton\\n', 'ketum\\n', 'kevel\\n', 'keven\\n', 'keyfi\\n', 'keyif\\n', 'kıble\\n', 'kıdem\\n', 'kılgı\\n', 'kılıç\\n', 'kılıf\\n', 'kılık\\n', 'kılış\\n', 'kıllı\\n', 'kımıl\\n', 'kımız\\n', 'kınık\\n', 'kınlı\\n', 'kıpık\\n', 'kıpti\\n', 'kısık\\n', 'kısış\\n', 'kısıt\\n', 'kıskı\\n', 'kısmi\\n', 'kışın\\n', 'kıtık\\n', 'kıygı\\n', 'kıyık\\n', 'kıyım\\n', 'kıyın\\n', 'kıyış\\n', 'kıyye\\n', 'kızık\\n', 'kızıl\\n', 'kızış\\n', 'kiğı \\n', 'kilim\\n', 'kilis\\n', 'kilit\\n', 'kiliz\\n', 'killi\\n', 'kilsi\\n', 'kilüs\\n', 'kimse\\n', 'kimüs\\n', 'kinci\\n', 'kinik\\n', 'kinin\\n', 'kiniş\\n', 'kinli\\n', 'kisve\\n', 'kitin\\n', 'kitle\\n', 'klips\\n', 'klişe\\n', 'kodes\\n', 'kofti\\n', 'koful\\n', 'koğuş\\n', 'koket\\n', 'kokoş\\n', 'kokot\\n', 'kokoz\\n', 'kokuş\\n', 'kolcu\\n', 'kolej\\n', 'kolik\\n', 'kolit\\n', 'kollu\\n', 'kolon\\n', 'kolpo\\n', 'kolsu\\n', 'kolye\\n', 'kombi\\n', 'komik\\n', 'komot\\n', 'komşu\\n', 'komut\\n', 'komün\\n', 'kondu\\n', 'konik\\n', 'konuk\\n', 'konum\\n', 'konuş\\n', 'konut\\n', 'kopil\\n', 'kopoy\\n', 'kopuk\\n', 'kopuş\\n', 'kopuz\\n', 'koşin\\n', 'koşuk\\n', 'koşul\\n', 'koşum\\n', 'koşun\\n', 'koşut\\n', 'koton\\n', 'kovcu\\n', 'kovuk\\n', 'kovuş\\n', 'koyun\\n', 'koyuş\\n', 'koyut\\n', 'köçek\\n', 'köfte\\n', 'köhne\\n', 'kökçü\\n', 'köken\\n', 'köklü\\n', 'köksü\\n', 'kölük\\n', 'kömbe\\n', 'kömeç\\n', 'kömüş\\n', 'köpek\\n', 'köpük\\n', 'kösçü\\n', 'kösem\\n', 'kösnü\\n', 'köşek\\n', 'kötek\\n', 'köycü\\n', 'köylü\\n', 'kubbe\\n', 'kuduz\\n', 'kudüm\\n', 'kulis\\n', 'kulle\\n', 'kulun\\n', 'kulüp\\n', 'kumcu\\n', 'kumlu\\n', 'kumsu\\n', 'kumuç\\n', 'kumuk\\n', 'kumul\\n', 'kupes\\n', 'kuple\\n', 'kupon\\n', 'kuşçu\\n', 'kuşet\\n', 'kuşku\\n', 'kutlu\\n', 'kutnu\\n', 'kutsi\\n', 'kutup\\n', 'kuvöz\\n', 'kuvve\\n', 'kuytu\\n', 'kuyum\\n', 'kuzen\\n', 'kuzey\\n', 'kuzin\\n', 'kübik\\n', 'küçük\\n', 'küflü\\n', 'külçe\\n', 'külek\\n', 'külli\\n', 'küllü\\n', 'külot\\n', 'külte\\n', 'kümes\\n', 'küncü\\n', 'künde\\n', 'künye\\n', 'küplü\\n', 'küskü\\n', 'küsme\\n', 'küspe\\n', 'küsuf\\n', 'küşne\\n', 'küşüm\\n', 'kütin\\n', 'kütle\\n', 'kütlü\\n', 'kütük\\n', 'leçek\\n', 'ledün\\n', 'leğen\\n', 'lehçe\\n', 'lehim\\n', 'lemis\\n', 'lento\\n', 'letçe\\n', 'levye\\n', 'leydi\\n', 'leyli\\n', 'leziz\\n', 'lığlı\\n', 'liboş\\n', 'lice \\n', 'lifli\\n', 'liken\\n', 'likit\\n', 'limbo\\n', 'limit\\n', 'limon\\n', 'linet\\n', 'linin\\n', 'lipit\\n', 'lipom\\n', 'liste\\n', 'lizol\\n', 'lizöz\\n', 'lobut\\n', 'lodos\\n', 'logos\\n', 'lojik\\n', 'lokum\\n', 'lotus\\n', 'lökoz\\n', 'lügol\\n', 'lümen\\n', 'lünet\\n', 'lüpçü\\n', 'lütuf\\n', 'lüzum\\n', 'mebde\\n', 'mebiz\\n', 'mebni\\n', 'mebus\\n', 'mecmu\\n', 'mecus\\n', 'medet\\n', 'medih\\n', 'medüz\\n', 'meful\\n', 'mehdi\\n', 'mehil\\n', 'mehle\\n', 'mekik\\n', 'melce\\n', 'melek\\n', 'meles\\n', 'meleş\\n', 'melez\\n', 'melik\\n', 'melon\\n', 'melul\\n', 'melun\\n', 'memnu\\n', 'memul\\n', 'menfi\\n', 'menşe\\n', 'menus\\n', 'mesel\\n', 'mesen\\n', 'mesih\\n', 'mesmu\\n', 'mesul\\n', 'meşbu\\n', 'meşin\\n', 'meşum\\n', 'metbu\\n', 'metil\\n', 'metin\\n', 'metis\\n', 'metot\\n', 'mevdu\\n', 'mevki\\n', 'mevut\\n', 'mevzi\\n', 'mevzu\\n', 'meyil\\n', 'meyus\\n', 'meyve\\n', 'mezon\\n', 'mezun\\n', 'mezzo\\n', 'mıhlı\\n', 'miçel\\n', 'midye\\n', 'mikoz\\n', 'milel\\n', 'milim\\n', 'milis\\n', 'milli\\n', 'milli\\n', 'mimik\\n', 'mimli\\n', 'minik\\n', 'misel\\n', 'misil\\n', 'misis\\n', 'mitil\\n', 'mitos\\n', 'mitoz\\n', 'miyom\\n', 'miyop\\n', 'mobil\\n', 'model\\n', 'modem\\n', 'modül\\n', 'moğol\\n', 'moloz\\n', 'monte\\n', 'mopet\\n', 'motel\\n', 'motif\\n', 'motto\\n', 'möble\\n', 'mösyö\\n', 'mucip\\n', 'mucit\\n', 'mucuk\\n', 'muhik\\n', 'muhil\\n', 'muhip\\n', 'muhit\\n', 'mujik\\n', 'mukim\\n', 'mukni\\n', 'mukus\\n', 'mumcu\\n', 'mumlu\\n', 'munis\\n', 'muson\\n', 'muşlu\\n', 'muştu\\n', 'mutçu\\n', 'mutlu\\n', 'muylu\\n', 'muzip\\n', 'muzsu\\n', 'müfit\\n', 'müftü\\n', 'mühim\\n', 'müjde\\n', 'mülki\\n', 'mümin\\n', 'münşi\\n', 'müziç\\n', 'müzik\\n', 'necip\\n', 'nedbe\\n', 'neden\\n', 'nedim\\n', 'nefes\\n', 'nefis\\n', 'nefiy\\n', 'nefti\\n', 'nehiy\\n', 'nekes\\n', 'nemçe\\n', 'nemli\\n', 'nemse\\n', 'nesep\\n', 'nesiç\\n', 'nesih\\n', 'nesil\\n', 'nesim\\n', 'nesne\\n', 'neşet\\n', 'neyçe\\n', 'neyse\\n', 'nezif\\n', 'nezih\\n', 'nezle\\n', 'nısıf\\n', 'nicel\\n', 'niçin\\n', 'niğde\\n', 'nikel\\n', 'nimet\\n', 'ninni\\n', 'nipel\\n', 'nispi\\n', 'nitel\\n', 'niyet\\n', 'nizip\\n', 'nodul\\n', 'nodül\\n', 'nohut\\n', 'nonoş\\n', 'nöbet\\n', 'nukut\\n', 'numen\\n', 'nutuk\\n', 'nüfus\\n', 'nüfuz\\n', 'nükte\\n', 'nükül\\n', 'nüzul\\n', 'odeon\\n', 'odsuz\\n', 'ofset\\n', 'ojeli\\n', 'okluk\\n', 'oksit\\n', 'okume\\n', 'olçum\\n', 'oleik\\n', 'olein\\n', 'olgun\\n', 'olmuş\\n', 'oltu \\n', 'omlet\\n', 'ongen\\n', 'ongun\\n', 'oniks\\n', 'onluk\\n', 'onsuz\\n', 'oosit\\n', 'optik\\n', 'otçul\\n', 'otist\\n', 'otizm\\n', 'otluk\\n', 'otsul\\n', 'otsuz\\n', 'oylum\\n', 'ozmoz\\n', 'ödeme\\n', 'ödlek\\n', 'ödünç\\n', 'öğlen\\n', 'öksüz\\n', 'ölçek\\n', 'ölçme\\n', 'ölçüm\\n', 'ölçün\\n', 'ölçüş\\n', 'ölçüt\\n', 'ölgün\\n', 'ölmek\\n', 'ölmez\\n', 'ölmüş\\n', 'öncel\\n', 'öncül\\n', 'ön ek\\n', 'öneze\\n', 'önlem\\n', 'önlük\\n', 'önsel\\n', 'öpmek\\n', 'öteki\\n', 'ötmek\\n', 'ötücü\\n', 'övmek\\n', 'övücü\\n', 'övünç\\n', 'özbek\\n', 'özdek\\n', 'özden\\n', 'özdeş\\n', 'özeme\\n', 'özenç\\n', 'özeni\\n', 'özgül\\n', 'özgün\\n', 'özlem\\n', 'özlük\\n', 'öznel\\n', 'özsel\\n', 'öz su\\n', 'peçiç\\n', 'pekçe\\n', 'pelin\\n', 'pelit\\n', 'pelte\\n', 'pelüş\\n', 'pembe\\n', 'pençe\\n', 'penes\\n', 'pengö\\n', 'penis\\n', 'pense\\n', 'penye\\n', 'pesek\\n', 'pesüs\\n', 'peşin\\n', 'peşli\\n', 'peştu\\n', 'petek\\n', 'peyke\\n', 'pıhtı\\n', 'pigme\\n', 'piket\\n', 'piliç\\n', 'pilli\\n', 'pilot\\n', 'pinel\\n', 'pines\\n', 'pinti\\n', 'pipet\\n', 'pisik\\n', 'pisin\\n', 'pişek\\n', 'pişik\\n', 'pişim\\n', 'pişme\\n', 'pişti\\n', 'piton\\n', 'piyes\\n', 'piyon\\n', 'polen\\n', 'polim\\n', 'polip\\n', 'polis\\n', 'polüm\\n', 'ponje\\n', 'popçu\\n', 'poşet\\n', 'potin\\n', 'potuk\\n', 'pöçük\\n', 'pulcu\\n', 'pullu\\n', 'pulsu\\n', 'puluç\\n', 'punto\\n', 'puset\\n', 'puslu\\n', 'pünez\\n', 'sebep\\n', 'sebil\\n', 'sebze\\n', 'secde\\n', 'seçim\\n', 'seçiş\\n', 'seçki\\n', 'seçme\\n', 'sedef\\n', 'sedye\\n', 'sefih\\n', 'sefil\\n', 'sehim\\n', 'sehiv\\n', 'sekel\\n', 'sekil\\n', 'sekiş\\n', 'sekiz\\n', 'sekme\\n', 'seksi\\n', 'sekte\\n', 'selef\\n', 'selek\\n', 'selen\\n', 'selim\\n', 'selis\\n', 'selvi\\n', 'semen\\n', 'semih\\n', 'semiz\\n', 'sence\\n', 'senek\\n', 'senet\\n', 'senit\\n', 'sepek\\n', 'sepet\\n', 'sesçi\\n', 'sesli\\n', 'setik\\n', 'sevgi\\n', 'sevim\\n', 'seviş\\n', 'sevme\\n', 'seyek\\n', 'seyis\\n', 'seyit\\n', 'sezgi\\n', 'seziş\\n', 'sezme\\n', 'sezon\\n', 'sığın\\n', 'sıhhi\\n', 'sıkım\\n', 'sıkıt\\n', 'sındı\\n', 'sınıf\\n', 'sınık\\n', 'sıvık\\n', 'sıygı\\n', 'sızış\\n', 'sibop\\n', 'sicil\\n', 'sicim\\n', 'sidik\\n', 'sifin\\n', 'sifon\\n', 'siğil\\n', 'sikke\\n', 'sikme\\n', 'silgi\\n', 'silik\\n', 'silis\\n', 'siliş\\n', 'silki\\n', 'sille\\n', 'silme\\n', 'simge\\n', 'simit\\n', 'sinek\\n', 'sinik\\n', 'siniş\\n', 'sinle\\n', 'sinme\\n', 'sinop\\n', 'sinsi\\n', 'sinüs\\n', 'sipsi\\n', 'sisli\\n', 'sitem\\n', 'sitil\\n', 'sivil\\n', 'siyek\\n', 'siyme\\n', 'sizce\\n', 'skink\\n', 'soğuk\\n', 'soket\\n', 'sokum\\n', 'sokuş\\n', 'solcu\\n', 'soluk\\n', 'soluş\\n', 'somon\\n', 'somun\\n', 'somut\\n', 'sonlu\\n', 'sonuç\\n', 'sosis\\n', 'soylu\\n', 'soyum\\n', 'soyuş\\n', 'soyut\\n', 'söğüş\\n', 'söğüt\\n', 'söke \\n', 'sökel\\n', 'sökme\\n', 'sökük\\n', 'söküm\\n', 'sökün\\n', 'söküş\\n', 'sölom\\n', 'sönme\\n', 'sönük\\n', 'sönüm\\n', 'sönüş\\n', 'söven\\n', 'sövgü\\n', 'sövme\\n', 'sövüş\\n', 'sözce\\n', 'sözcü\\n', 'sözde\\n', 'sözel\\n', 'sözlü\\n', 'steno\\n', 'stent\\n', 'stilo\\n', 'subye\\n', 'sucuk\\n', 'sucul\\n', 'suçlu\\n', 'sufle\\n', 'sukut\\n', 'suluk\\n', 'sungu\\n', 'sunum\\n', 'sunuş\\n', 'suoku\\n', 'susku\\n', 'susuş\\n', 'susuz\\n', 'sutlu\\n', 'suyuk\\n', 'sübek\\n', 'sübut\\n', 'sübye\\n', 'sücut\\n', 'süfli\\n', 'süğme\\n', 'sükse\\n', 'sükün\\n', 'süküt\\n', 'süluk\\n', 'sülük\\n', 'sülün\\n', 'sülüs\\n', 'sümek\\n', 'sümen\\n', 'sümük\\n', 'süngü\\n', 'sünme\\n', 'sünni\\n', 'süsen\\n', 'süslü\\n', 'süsme\\n', 'sütçü\\n', 'sütlü\\n', 'sütsü\\n', 'sütun\\n', 'süven\\n', 'süvme\\n', 'süyek\\n', 'süyüm\\n', 'süzek\\n', 'süzgü\\n', 'süzme\\n', 'süzük\\n', 'şebek\\n', 'şedde\\n', 'şedit\\n', 'şefik\\n', 'şehit\\n', 'şekel\\n', 'şekil\\n', 'şekli\\n', 'şelek\\n', 'şemse\\n', 'şemsi\\n', 'şepit\\n', 'şetim\\n', 'şifon\\n', 'şilem\\n', 'şilep\\n', 'şilin\\n', 'şilte\\n', 'şimdi\\n', 'şinik\\n', 'şinto\\n', 'şişek\\n', 'şişik\\n', 'şişko\\n', 'şişme\\n', 'şoset\\n', 'şoson\\n', 'şoven\\n', 'şölen\\n', 'şömiz\\n', 'şöyle\\n', 'şu bu\\n', 'şuhut\\n', 'şümul\\n', 'şüphe\\n', 'tecil\\n', 'tecim\\n', 'tedip\\n', 'teğet\\n', 'teist\\n', 'teizm\\n', 'tekçi\\n', 'tekel\\n', 'tekil\\n', 'tekin\\n', 'tekit\\n', 'tekke\\n', 'tekli\\n', 'tekme\\n', 'tekne\\n', 'tekst\\n', 'telef\\n', 'telek\\n', 'telem\\n', 'teles\\n', 'telif\\n', 'telin\\n', 'telis\\n', 'telli\\n', 'telsi\\n', 'telve\\n', 'temek\\n', 'temel\\n', 'temin\\n', 'temiz\\n', 'tempo\\n', 'tenge\\n', 'tenis\\n', 'tente\\n', 'tepik\\n', 'tepiş\\n', 'tepke\\n', 'tepki\\n', 'tepme\\n', 'tepsi\\n', 'tesis\\n', 'tesit\\n', 'testi\\n', 'teşci\\n', 'teşne\\n', 'teşyi\\n', 'tetik\\n', 'tevdi\\n', 'tevek\\n', 'tevil\\n', 'tevki\\n', 'tevsi\\n', 'tevzi\\n', 'teyel\\n', 'teyit\\n', 'teyze\\n', 'tezce\\n', 'tezek\\n', 'tezli\\n', 'tıbbi\\n', 'tıfıl\\n', 'tıkım\\n', 'tıkız\\n', 'tıpkı\\n', 'tifüs\\n', 'tikel\\n', 'tilki\\n', 'timüs\\n', 'tipik\\n', 'titiz\\n', 'tohum\\n', 'toklu\\n', 'tokuz\\n', 'tokyo\\n', 'tonik\\n', 'tonlu\\n', 'tonoz\\n', 'topçu\\n', 'topik\\n', 'toplu\\n', 'topuk\\n', 'toput\\n', 'topuz\\n', 'tosun\\n', 'totem\\n', 'toycu\\n', 'tozlu\\n', 'tövbe\\n', 'tözel\\n', 'tuğcu\\n', 'tuğlu\\n', 'tuluk\\n', 'tulum\\n', 'tulup\\n', 'tunik\\n', 'tutku\\n', 'tutuk\\n', 'tutum\\n', 'tutuş\\n', 'tuyuğ\\n', 'tuzcu\\n', 'tuzlu\\n', 'tuzsu\\n', 'tüfek\\n', 'tümce\\n', 'tümel\\n', 'tümen\\n', 'tümey\\n', 'tünek\\n', 'tünel\\n', 'tünme\\n', 'tüpçü\\n', 'tüplü\\n', 'tütme\\n', 'tütsü\\n', 'tütün\\n', 'tüvit\\n', 'tüylü\\n', 'tüyme\\n', 'tüzel\\n', 'tüzük\\n', 'tvist\\n', 'ucube\\n', 'uçkun\\n', 'uçsuz\\n', 'uçucu\\n', 'uknum\\n', 'ulufe\\n', 'umumi\\n', 'unluk\\n', 'uşkun\\n', 'uygun\\n', 'uyluk\\n', 'uzlet\\n', 'uzluk\\n', 'üçgen\\n', 'üçgül\\n', 'üçlük\\n', 'üfleç\\n', 'ülfet\\n', 'ümmet\\n', 'ündeş\\n', 'ünite\\n', 'ünlem\\n', 'ünsüz\\n', 'ünye \\n', 'üsküf\\n', 'üslup\\n', 'üstel\\n', 'üstlü\\n', 'üstün\\n', 'üşenç\\n', 'üşmek\\n', 'üşüme\\n', 'ütmek\\n', 'ütücü\\n', 'ütülü\\n', 'üzgün\\n', 'üzlük\\n', 'üzmek\\n', 'üzücü\\n', 'üzünç\\n', 'vecih\\n', 'veciz\\n', 'veçhe\\n', 'vehim\\n', 'vekil\\n', 'velet\\n', 'velut\\n', 'venüs\\n', 'vezin\\n', 'vezne\\n', 'vıcık\\n', 'video\\n', 'viski\\n', 'vişne\\n', 'vites\\n', 'viyol\\n', 'vizon\\n', 'vonoz\\n', 'voyvo\\n', 'vukuf\\n', 'vusul\\n', 'vuzuh\\n', 'vücut\\n', 'yedek\\n', 'yediz\\n', 'yedme\\n', 'yeğen\\n', 'yeğin\\n', 'yeğni\\n', 'yekün\\n', 'yeleç\\n', 'yelek\\n', 'yelin\\n', 'yelli\\n', 'yelme\\n', 'yelve\\n', 'yemci\\n', 'yemek\\n', 'yemin\\n', 'yemiş\\n', 'yenge\\n', 'yengi\\n', 'yenik\\n', 'yenli\\n', 'yenme\\n', 'yeşil\\n', 'yeşim\\n', 'yetik\\n', 'yetim\\n', 'yetke\\n', 'yetki\\n', 'yetme\\n', 'yevmi\\n', 'yeygi\\n', 'yezit\\n', 'yığın\\n', 'yığış\\n', 'yıkık\\n', 'yıkım\\n', 'yıkış\\n', 'yılgı\\n', 'yılık\\n', 'yılkı\\n', 'yiğit\\n', 'yitik\\n', 'yitim\\n', 'yitiş\\n', 'yitme\\n', 'yivli\\n', 'yiyim\\n', 'yiyiş\\n', 'yoğun\\n', 'yokçu\\n', 'yokuş\\n', 'yolcu\\n', 'yollu\\n', 'yoluk\\n', 'yontu\\n', 'yosun\\n', 'yönlü\\n', 'yudum\\n', 'yumuk\\n', 'yunus\\n', 'yutum\\n', 'yutuş\\n', 'yuvgu\\n', 'yükçü\\n', 'yüklü\\n', 'yüküm\\n', 'yükün\\n', 'yülgü\\n', 'yülük\\n', 'yünlü\\n', 'yüzde\\n', 'yüzey\\n', 'yüzlü\\n', 'yüzme\\n', 'yüzük\\n', 'yüzüş\\n', 'zebun\\n', 'zelil\\n', 'zelve\\n', 'zemin\\n', 'zenci\\n', 'zenne\\n', 'zevce\\n', 'zeyil\\n', 'zıbın\\n', 'zıhlı\\n', 'zımni\\n', 'zifin\\n', 'zifos\\n', 'zigon\\n', 'zigot\\n', 'zihin\\n', 'zihni\\n', 'zile \\n', 'zilli\\n', 'zimmi\\n', 'zinde\\n', 'zloti\\n', 'zombi\\n', 'zulüm\\n', 'zübde\\n', 'zühul\\n', 'zülüf\\n', 'züppe\\n', 'züyuf\\n']\n"
     ]
    }
   ],
   "source": [
    "print(sozluk)"
   ]
  },
  {
   "cell_type": "code",
   "execution_count": null,
   "metadata": {},
   "outputs": [],
   "source": []
  }
 ],
 "metadata": {
  "interpreter": {
   "hash": "cef46d8763824d289992c8860a3089a1bef4a42fe2d41953bcdbf60b30f3f62d"
  },
  "kernelspec": {
   "display_name": "Python 3.8.10 64-bit (windows store)",
   "language": "python",
   "name": "python3"
  },
  "language_info": {
   "codemirror_mode": {
    "name": "ipython",
    "version": 3
   },
   "file_extension": ".py",
   "mimetype": "text/x-python",
   "name": "python",
   "nbconvert_exporter": "python",
   "pygments_lexer": "ipython3",
   "version": "3.8.10"
  },
  "orig_nbformat": 4
 },
 "nbformat": 4,
 "nbformat_minor": 2
}
